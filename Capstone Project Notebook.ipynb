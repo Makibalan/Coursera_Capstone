{
 "cells": [
  {
   "cell_type": "markdown",
   "id": "85c4dcc5-67b1-4328-971b-fc3fe6188552",
   "metadata": {},
   "source": [
    "<h1>Capstone Project Notebook</h1>"
   ]
  },
  {
   "cell_type": "markdown",
   "id": "19962d6a-08a4-4b4e-be83-55ce6286df92",
   "metadata": {},
   "source": [
    "This Notebook is especially created to work on Applied Datascience Capstone projects provided by coursera"
   ]
  },
  {
   "cell_type": "code",
   "execution_count": 4,
   "id": "bef6f174-39c1-4d64-a37c-cb702aef2e2b",
   "metadata": {},
   "outputs": [],
   "source": [
    "import pandas as pd\n",
    "import numpy as np"
   ]
  },
  {
   "cell_type": "code",
   "execution_count": 8,
   "id": "0125a0bb-6090-4582-8130-d0b72e21cd6e",
   "metadata": {},
   "outputs": [
    {
     "name": "stdout",
     "output_type": "stream",
     "text": [
      "Hello Capstone Project Course!\n"
     ]
    }
   ],
   "source": [
    "print (\"Hello Capstone Project Course!\")"
   ]
  },
  {
   "cell_type": "code",
   "execution_count": null,
   "id": "42261e45-e2f9-407b-9e63-06f15879cf8f",
   "metadata": {},
   "outputs": [],
   "source": []
  }
 ],
 "metadata": {
  "kernelspec": {
   "display_name": "Python 3",
   "language": "python",
   "name": "python3"
  },
  "language_info": {
   "codemirror_mode": {
    "name": "ipython",
    "version": 3
   },
   "file_extension": ".py",
   "mimetype": "text/x-python",
   "name": "python",
   "nbconvert_exporter": "python",
   "pygments_lexer": "ipython3",
   "version": "3.8.8"
  }
 },
 "nbformat": 4,
 "nbformat_minor": 5
}
